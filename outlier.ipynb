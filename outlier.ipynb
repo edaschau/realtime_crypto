{
 "cells": [
  {
   "cell_type": "code",
   "execution_count": 4,
   "id": "8901eba4",
   "metadata": {},
   "outputs": [
    {
     "name": "stdout",
     "output_type": "stream",
     "text": [
      "所有分类的离群值处理完毕，并已保存为 /Users/yangluyao/Documents/X/BTC_analyzed/clean-merged_X_BTC_all_processed.csv\n"
     ]
    }
   ],
   "source": [
    "import pandas as pd\n",
    "\n",
    "# 读取CSV文件\n",
    "file_path = '/Users/yangluyao/Documents/X/BTC_analyzed/clean-merged_X_BTC.csv'\n",
    "df = pd.read_csv(file_path)\n",
    "\n",
    "# 定义各组列名\n",
    "columns_dict = {\n",
    "    'Overall Sentiment': ['Overall Sentiment_llama', 'Overall Sentiment_mistral', 'Overall Sentiment_hermes', 'Overall Sentiment_qwen', 'Overall Sentiment_gemma'],\n",
    "    'Regulatory Impact': ['Regulatory Impact_llama', 'Regulatory Impact_mistral', 'Regulatory Impact_hermes', 'Regulatory Impact_qwen', 'Regulatory Impact_gemma'],\n",
    "    'Technological Impact': ['Technological Impact_llama', 'Technological Impact_mistral', 'Technological Impact_hermes', 'Technological Impact_qwen', 'Technological Impact_gemma'],\n",
    "    'Market Adoption Impact': ['Market Adoption Impact_llama', 'Market Adoption Impact_mistral', 'Market Adoption Impact_hermes', 'Market Adoption Impact_qwen', 'Market Adoption Impact_gemma'],\n",
    "    'Macroeconomic Implications': ['Macroeconomic Implications_llama', 'Macroeconomic Implications_mistral', 'Macroeconomic Implications_hermes', 'Macroeconomic Implications_qwen', 'Macroeconomic Implications_gemma'],\n",
    "    'Virality potential':['Virality potential_llama','Virality potential_mistral','Virality potential_hermes','Virality potential_qwen','Virality potential_gemma'],\n",
    "    'Informative value':['Informative value_llama','Informative value_mistral','Informative value_hermes','Informative value_qwen','Informative value_gemma'],\n",
    "    'Sentiment polarity':['Sentiment polarity_llama','Sentiment polarity_mistral','Sentiment polarity_hermes','Sentiment polarity_qwen','Sentiment polarity_gemma'],\n",
    "    'Impact duration':['Impact duration_llama','Impact duration_mistral','Impact duration_hermes','Impact duration_qwen','Impact duration_gemma']\n",
    "\n",
    "}\n",
    "\n",
    "# 定义一个通用处理函数\n",
    "def process_group(df, group_columns):\n",
    "    # 合并数据\n",
    "    combined_data = pd.concat([df[col] for col in group_columns])\n",
    "    # 计算四分位数和IQR\n",
    "    Q1 = combined_data.quantile(0.25)\n",
    "    Q3 = combined_data.quantile(0.75)\n",
    "    IQR = Q3 - Q1\n",
    "    # 定义离群值的上下界限\n",
    "    lower_bound = Q1 - 1.5 * IQR\n",
    "    upper_bound = Q3 + 1.5 * IQR\n",
    "    # 处理每个列的离群值\n",
    "    for col in group_columns:\n",
    "        df[col] = df[col].apply(lambda x: 5 if x < lower_bound or x > upper_bound else x)\n",
    "    return df\n",
    "\n",
    "# 应用到所有分类\n",
    "for group, cols in columns_dict.items():\n",
    "    df = process_group(df, cols)\n",
    "\n",
    "# 保存处理后的数据\n",
    "output_file = '/Users/yangluyao/Documents/X/BTC_analyzed/clean-merged_X_BTC_all_processed.csv'\n",
    "df.to_csv(output_file, index=False)\n",
    "\n",
    "print(f\"所有分类的离群值处理完毕，并已保存为 {output_file}\")\n"
   ]
  },
  {
   "cell_type": "code",
   "execution_count": null,
   "id": "c66b729f",
   "metadata": {},
   "outputs": [],
   "source": []
  }
 ],
 "metadata": {
  "kernelspec": {
   "display_name": "Python 3 (ipykernel)",
   "language": "python",
   "name": "python3"
  },
  "language_info": {
   "codemirror_mode": {
    "name": "ipython",
    "version": 3
   },
   "file_extension": ".py",
   "mimetype": "text/x-python",
   "name": "python",
   "nbconvert_exporter": "python",
   "pygments_lexer": "ipython3",
   "version": "3.11.5"
  }
 },
 "nbformat": 4,
 "nbformat_minor": 5
}
